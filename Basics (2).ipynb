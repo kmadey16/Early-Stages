{
 "cells": [
  {
   "cell_type": "markdown",
   "metadata": {},
   "source": [
    "# Finding the best time to post on HackerNews"
   ]
  },
  {
   "cell_type": "markdown",
   "metadata": {
    "collapsed": true
   },
   "source": [
    "We are looking at the dataset from Hacker News that involves user feedback to posts/questions or posts directly from Hacker News. We aim to see which category recives more interaction from users. \n",
    "We also seek to identify if posts created at a certain time recieve more comments than average."
   ]
  },
  {
   "cell_type": "code",
   "execution_count": 1,
   "metadata": {
    "collapsed": false
   },
   "outputs": [
    {
     "data": {
      "text/plain": [
       "[['12224879',\n",
       "  'Interactive Dynamic Video',\n",
       "  'http://www.interactivedynamicvideo.com/',\n",
       "  '386',\n",
       "  '52',\n",
       "  'ne0phyte',\n",
       "  '8/4/2016 11:52'],\n",
       " ['10975351',\n",
       "  'How to Use Open Source and Shut the Fuck Up at the Same Time',\n",
       "  'http://hueniverse.com/2016/01/26/how-to-use-open-source-and-shut-the-fuck-up-at-the-same-time/',\n",
       "  '39',\n",
       "  '10',\n",
       "  'josep2',\n",
       "  '1/26/2016 19:30'],\n",
       " ['11964716',\n",
       "  \"Florida DJs May Face Felony for April Fools' Water Joke\",\n",
       "  'http://www.thewire.com/entertainment/2013/04/florida-djs-april-fools-water-joke/63798/',\n",
       "  '2',\n",
       "  '1',\n",
       "  'vezycash',\n",
       "  '6/23/2016 22:20'],\n",
       " ['11919867',\n",
       "  'Technology ventures: From Idea to Enterprise',\n",
       "  'https://www.amazon.com/Technology-Ventures-Enterprise-Thomas-Byers/dp/0073523429',\n",
       "  '3',\n",
       "  '1',\n",
       "  'hswarna',\n",
       "  '6/17/2016 0:01'],\n",
       " ['10301696',\n",
       "  'Note by Note: The Making of Steinway L1037 (2007)',\n",
       "  'http://www.nytimes.com/2007/11/07/movies/07stein.html?_r=0',\n",
       "  '8',\n",
       "  '2',\n",
       "  'walterbell',\n",
       "  '9/30/2015 4:12']]"
      ]
     },
     "execution_count": 1,
     "metadata": {},
     "output_type": "execute_result"
    }
   ],
   "source": [
    "from csv import reader\n",
    "opened_file = open(\"hacker_news.csv\")\n",
    "\n",
    "read_file = reader(opened_file)\n",
    "hn = list(read_file)\n",
    "headers = hn[0]\n",
    "hn = hn[1:]\n",
    "hn[:5]\n"
   ]
  },
  {
   "cell_type": "code",
   "execution_count": 2,
   "metadata": {
    "collapsed": false
   },
   "outputs": [
    {
     "name": "stdout",
     "output_type": "stream",
     "text": [
      "['id', 'title', 'url', 'num_points', 'num_comments', 'author', 'created_at']\n"
     ]
    }
   ],
   "source": [
    "print(headers)"
   ]
  },
  {
   "cell_type": "code",
   "execution_count": 3,
   "metadata": {
    "collapsed": false
   },
   "outputs": [
    {
     "name": "stdout",
     "output_type": "stream",
     "text": [
      "1744\n",
      "1162\n",
      "17194\n"
     ]
    }
   ],
   "source": [
    "ask_posts = []\n",
    "show_posts = []\n",
    "other_posts = []\n",
    "for row in hn:\n",
    "    title = row[1]\n",
    "    if title.lower().startswith('ask hn'):\n",
    "        ask_posts.append(row)\n",
    "    elif title.lower().startswith('show hn'):\n",
    "        show_posts.append(row)\n",
    "    else:\n",
    "        other_posts.append(row)\n",
    "print(len(ask_posts)) \n",
    "print(len(show_posts))\n",
    "print(len(other_posts))\n"
   ]
  },
  {
   "cell_type": "code",
   "execution_count": 4,
   "metadata": {
    "collapsed": false
   },
   "outputs": [
    {
     "name": "stdout",
     "output_type": "stream",
     "text": [
      "14\n",
      "10\n"
     ]
    }
   ],
   "source": [
    "total_ask_comments = 0\n",
    "\n",
    "for row in ask_posts:\n",
    "    num_comments = int(row[4])\n",
    "    total_ask_comments += num_comments\n",
    "    avg_ask_comments = int(total_ask_comments / len(ask_posts))\n",
    "print(avg_ask_comments)\n",
    "\n",
    "total_show_comments = 0\n",
    "for row in show_posts:\n",
    "    num_comments = int(row[4])\n",
    "    total_show_comments += num_comments\n",
    "    avg_show_comments = int(total_show_comments / len(show_posts))\n",
    "print(avg_show_comments)"
   ]
  },
  {
   "cell_type": "markdown",
   "metadata": {},
   "source": [
    "In order to be able to iterate through the lists created in the previous step, \"ask_posts\" and \"show_posts\", we first needed to change the previous code and append the entire row to each list rather than just the title.\n",
    "\n",
    "If we appeneded the title, then in this step here when we call to convert the row[4] value into an integer we would get an error. This is because the ask_posts and show_posts would be just a list of strings, so row[4] would just be the 4th index value of the string. \n",
    "So once we append the entire row instead, we can call row[4] here which gives us the num_comments which we then can convert into an integer. \n",
    "\n",
    "As for the values, the ask_posts recieve more comments on average than the show posts at a ratio of 14:10."
   ]
  },
  {
   "cell_type": "code",
   "execution_count": 5,
   "metadata": {
    "collapsed": false
   },
   "outputs": [],
   "source": [
    "import datetime as dt\n",
    "result_list = []\n",
    "for row in ask_posts:\n",
    "    created_at = row[6]\n",
    "    num_comments = int(row[4])\n",
    "    result_list.append([created_at,num_comments])\n",
    "    \n",
    "    \n",
    "counts_by_hour = {}\n",
    "comments_by_hour = {}\n",
    "\n",
    "date_format = \"%m/%d/%Y %H:%M\"\n",
    "\n",
    "for row in result_list:\n",
    "    hour = row[0]\n",
    "    comment_number = int(row[1])\n",
    "    hour = dt.datetime.strptime(hour,date_format)\n",
    "    row[0] = hour\n",
    "    time = hour.strftime('%H')\n",
    "    \n",
    "    if time not in counts_by_hour:\n",
    "        counts_by_hour[time] = 1\n",
    "        comments_by_hour[time] = comment_number\n",
    "    elif time in counts_by_hour:\n",
    "        counts_by_hour[time] += 1\n",
    "        comments_by_hour[time] += comment_number    "
   ]
  },
  {
   "cell_type": "markdown",
   "metadata": {
    "collapsed": false
   },
   "source": [
    "In the above cell: the goal was to create two dictionaries, one for the number of posts per hour (called counts_by_hour, and another for the comments per hour, called comments_by_hour).\n",
    "\n",
    "We first used the ask_posts list from the previous step, and created a list of lists called result_list. This result list had lists within it that were taken from ask_posts and contain both the time/date at which the post was made and the number of comments associated with the post.\n",
    "\n",
    "The next step was to create the two dictionaries. We wanted to look through the list of lists called result_list and extract the hour at which each post was made and the number of comments on the post. We first converted each list into a datetime format and then we were able to extract the time from that. \n",
    "Following this, we added each of these parameters to their corresponding dictionaries. "
   ]
  },
  {
   "cell_type": "code",
   "execution_count": 6,
   "metadata": {
    "collapsed": false
   },
   "outputs": [
    {
     "name": "stdout",
     "output_type": "stream",
     "text": [
      "[['20', 21.525], ['07', 7.852941176470588], ['03', 7.796296296296297], ['10', 13.440677966101696], ['14', 13.233644859813085], ['19', 10.8], ['12', 9.41095890410959], ['01', 11.383333333333333], ['21', 16.009174311926607], ['22', 6.746478873239437], ['16', 16.796296296296298], ['18', 13.20183486238532], ['13', 14.741176470588234], ['04', 7.170212765957447], ['11', 11.051724137931034], ['00', 8.127272727272727], ['09', 5.5777777777777775], ['15', 38.5948275862069], ['06', 9.022727272727273], ['05', 10.08695652173913], ['02', 23.810344827586206], ['17', 11.46], ['08', 10.25], ['23', 7.985294117647059]]\n"
     ]
    }
   ],
   "source": [
    "avg_by_hour = []\n",
    "for time in comments_by_hour:\n",
    "    avg_by_hour.append([time,comments_by_hour[time]/counts_by_hour[time]])\n",
    "print(avg_by_hour)    "
   ]
  },
  {
   "cell_type": "markdown",
   "metadata": {},
   "source": [
    "In the above, our goal was to simply identify the average number of comments per post.\n",
    "We first create an empty dictionary named avg_by_hour. Then we loop through the comments_by_hour dictionary and for each hour, we take the corresponding key value that goes with that hour (AKA the number of comments in that hour) and calculate the average by dividing the key from the comments_by_hour by the key value from the count_by_hour dictionary with the same hour. \n",
    "This is displayed as a list of lists in avg_by_hour."
   ]
  },
  {
   "cell_type": "code",
   "execution_count": 7,
   "metadata": {
    "collapsed": false
   },
   "outputs": [
    {
     "name": "stdout",
     "output_type": "stream",
     "text": [
      "[[38.5948275862069, '15'], [23.810344827586206, '02'], [21.525, '20'], [16.796296296296298, '16'], [16.009174311926607, '21'], [14.741176470588234, '13'], [13.440677966101696, '10'], [13.233644859813085, '14'], [13.20183486238532, '18'], [11.46, '17'], [11.383333333333333, '01'], [11.051724137931034, '11'], [10.8, '19'], [10.25, '08'], [10.08695652173913, '05'], [9.41095890410959, '12'], [9.022727272727273, '06'], [8.127272727272727, '00'], [7.985294117647059, '23'], [7.852941176470588, '07'], [7.796296296296297, '03'], [7.170212765957447, '04'], [6.746478873239437, '22'], [5.5777777777777775, '09']]\n"
     ]
    }
   ],
   "source": [
    "swap_avg_by_hour = []\n",
    "for row in avg_by_hour:\n",
    "    hour = row[0]\n",
    "    avg = row[1]\n",
    "    swap_avg_by_hour.append([avg,hour])\n",
    "\n",
    "\n",
    "sorted_swap = sorted(swap_avg_by_hour,reverse=True)\n",
    "print(sorted_swap)"
   ]
  },
  {
   "cell_type": "code",
   "execution_count": 8,
   "metadata": {
    "collapsed": false
   },
   "outputs": [
    {
     "name": "stdout",
     "output_type": "stream",
     "text": [
      "Top 5 Hours for Ask Posts Comments\n",
      " At 14:00, 38.59 average comments per post\n",
      " At 1:00, 23.81 average comments per post\n",
      " At 19:00, 21.52 average comments per post\n",
      " At 15:00, 16.80 average comments per post\n",
      " At 20:00, 16.01 average comments per post\n"
     ]
    }
   ],
   "source": [
    "print(\"Top 5 Hours for Ask Posts Comments\")\n",
    "hour_format = \"%H\"\n",
    "for row in sorted_swap[:5]:\n",
    "    avg = row[0]\n",
    "    hour = row[1]\n",
    "    hour = dt.datetime.strptime(hour,hour_format)\n",
    "    hour = hour.strftime(\"%H\") \n",
    "    average = \" At {}:00, {:.2f} average comments per post\".format((int(hour)-1),avg)\n",
    "    print(average)"
   ]
  },
  {
   "cell_type": "markdown",
   "metadata": {},
   "source": [
    "The Hours listed are in Eastern Time. We converted the time to central time in the last step by subtracting 1 hour."
   ]
  },
  {
   "cell_type": "markdown",
   "metadata": {},
   "source": [
    "Overall in this most recent step, we first wanted to swap the values in the avg_by_hour list from the previous step. This simply switched the positions of the two values in the list. \n",
    "We then sorted the list in descending order from the highest average comments per post.\n",
    "\n",
    "We then iterated from the first five values from this sorted list (which were the highest averages) and listed the hour of day associated with these averages. Lastly we converted from the Eastern time zone to the central time zone for the hours by converting the hour value from a str to an int and then subracting by 1.\n",
    "\n",
    "In conclusion, the hours that have the highest chance of receiving comments are 14:00 (2 pm) Central US time, 1:00 (1 am) Central US time, and 19:00 (7 pm) Central US time."
   ]
  },
  {
   "cell_type": "markdown",
   "metadata": {},
   "source": [
    "# Average points per post"
   ]
  },
  {
   "cell_type": "code",
   "execution_count": 9,
   "metadata": {
    "collapsed": false
   },
   "outputs": [
    {
     "name": "stdout",
     "output_type": "stream",
     "text": [
      "\n",
      "\n",
      "The average points per show post is 27.56\n",
      "\n",
      "\n",
      "The average points per ask post is 15.06\n"
     ]
    }
   ],
   "source": [
    "ask_points = []\n",
    "show_points = []\n",
    "for row in ask_posts:\n",
    "    num_points = int(row[3])\n",
    "    ask_points.append(num_points)\n",
    "    total_ask = sum(ask_points)\n",
    "for row in show_posts:\n",
    "    number_points = int(row[3])\n",
    "    show_points.append(number_points)\n",
    "    total_show = sum(show_points)\n",
    "\n",
    "avg_show_points = total_show / len(show_posts)\n",
    "avg_ask_points = total_ask / len(ask_posts)\n",
    "print('\\n')\n",
    "print(\"The average points per show post is {:.2f}\".format(avg_show_points))\n",
    "print('\\n')\n",
    "print(\"The average points per ask post is {:.2f}\".format(avg_ask_points))"
   ]
  },
  {
   "cell_type": "markdown",
   "metadata": {},
   "source": [
    "# Determining the times posts recieve more points"
   ]
  },
  {
   "cell_type": "code",
   "execution_count": 10,
   "metadata": {
    "collapsed": true
   },
   "outputs": [],
   "source": [
    "import datetime as dt\n",
    "result_list = []\n",
    "for row in hn:\n",
    "    created_at = row[6]\n",
    "    points = int(row[3])\n",
    "    result_list.append([created_at,points])\n",
    "    \n",
    "points_by_hour = {}\n",
    "\n",
    "date_format = \"%m/%d/%Y %H:%M\"\n",
    "\n",
    "for row in result_list:\n",
    "    hour = row[0]\n",
    "    num_points = int(row[1])\n",
    "    hour = dt.datetime.strptime(hour,date_format)\n",
    "    row[0] = hour\n",
    "    time = hour.strftime('%H')\n",
    "    \n",
    "    if time not in points_by_hour:\n",
    "        points_by_hour[time] = 1\n",
    "        points_by_hour[time] = num_points\n",
    "    elif time in points_by_hour:\n",
    "        points_by_hour[time] += 1\n",
    "        points_by_hour[time] += num_points   "
   ]
  },
  {
   "cell_type": "code",
   "execution_count": 18,
   "metadata": {
    "collapsed": false
   },
   "outputs": [],
   "source": [
    "swap_points = []\n",
    "for time in points_by_hour:\n",
    "    swap_points.append([points_by_hour[time],time])\n",
    "   \n",
    "sorted_points = sorted(swap_points,reverse=True)\n"
   ]
  },
  {
   "cell_type": "code",
   "execution_count": 19,
   "metadata": {
    "collapsed": false
   },
   "outputs": [
    {
     "data": {
      "text/plain": [
       "[[73600, '17'],\n",
       " [69904, '15'],\n",
       " [66112, '16'],\n",
       " [63810, '14'],\n",
       " [63668, '18'],\n",
       " [63170, '19'],\n",
       " [62999, '13'],\n",
       " [49534, '12'],\n",
       " [46765, '21'],\n",
       " [45238, '20'],\n",
       " [41320, '22'],\n",
       " [41061, '11'],\n",
       " [38214, '10'],\n",
       " [38038, '00'],\n",
       " [37952, '23'],\n",
       " [30292, '09'],\n",
       " [28441, '08'],\n",
       " [27447, '02'],\n",
       " [27290, '01'],\n",
       " [26823, '07'],\n",
       " [24707, '03'],\n",
       " [23850, '04'],\n",
       " [20495, '05'],\n",
       " [20297, '06']]"
      ]
     },
     "execution_count": 19,
     "metadata": {},
     "output_type": "execute_result"
    }
   ],
   "source": [
    "sorted_points"
   ]
  },
  {
   "cell_type": "code",
   "execution_count": 17,
   "metadata": {
    "collapsed": false
   },
   "outputs": [
    {
     "name": "stdout",
     "output_type": "stream",
     "text": [
      "Top 5 times for most points on posts (Central Time)\n",
      "\n",
      "\n",
      "At 16:00 each post received an average of 3.66 points\n",
      "At 14:00 each post received an average of 3.48 points\n",
      "At 15:00 each post received an average of 3.29 points\n",
      "At 13:00 each post received an average of 3.17 points\n",
      "At 17:00 each post received an average of 3.17 points\n"
     ]
    }
   ],
   "source": [
    "print(\"Top 5 times for most points on posts (Central Time)\")\n",
    "print('\\n')\n",
    "date_format = \"%H\"\n",
    "for row in sorted_points[:5]:\n",
    "    points = int(row[0])\n",
    "    hour = row[1]\n",
    "    avg_points = points / len(hn)\n",
    "    hour = dt.datetime.strptime(hour,date_format)\n",
    "    hour = hour.strftime(\"%H\")\n",
    "    print(\"At {}:00 each post received an average of {:.2f} points\".format((int(hour)-1),avg_points))"
   ]
  },
  {
   "cell_type": "code",
   "execution_count": null,
   "metadata": {
    "collapsed": true
   },
   "outputs": [],
   "source": []
  }
 ],
 "metadata": {
  "kernelspec": {
   "display_name": "Python 3",
   "language": "python",
   "name": "python3"
  },
  "language_info": {
   "codemirror_mode": {
    "name": "ipython",
    "version": 3
   },
   "file_extension": ".py",
   "mimetype": "text/x-python",
   "name": "python",
   "nbconvert_exporter": "python",
   "pygments_lexer": "ipython3",
   "version": "3.4.3"
  }
 },
 "nbformat": 4,
 "nbformat_minor": 2
}

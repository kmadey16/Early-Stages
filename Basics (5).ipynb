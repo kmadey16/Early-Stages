{
 "cells": [
  {
   "cell_type": "markdown",
   "metadata": {},
   "source": [
    "# Mobile App for Lottery Addiction"
   ]
  },
  {
   "cell_type": "markdown",
   "metadata": {},
   "source": [
    "Many people start playing the lottery for fun, but for some this turns into a habit which then escalates into an addiction. This can lead to financial hardships and other issues.\n",
    "We seek to create an application that aims to better estimate an individuals chances of winning. We use historical data from the national 6/49 lottery game in Canada. \n",
    "\n"
   ]
  },
  {
   "cell_type": "code",
   "execution_count": 11,
   "metadata": {
    "collapsed": true
   },
   "outputs": [],
   "source": [
    "#Creating our core functions that we will use repeatedly in this project\n",
    "def factorials(n):\n",
    "    fact = 1\n",
    "    for i in range(n,0,-1):\n",
    "        fact *= i\n",
    "    return fact"
   ]
  },
  {
   "cell_type": "code",
   "execution_count": 12,
   "metadata": {
    "collapsed": false
   },
   "outputs": [],
   "source": [
    "def combinations(n,k):\n",
    "    numerator = factorials(n)\n",
    "    denominator = factorials(k) * (factorials(n-k))\n",
    "    return numerator/denominator"
   ]
  },
  {
   "cell_type": "code",
   "execution_count": 13,
   "metadata": {
    "collapsed": true
   },
   "outputs": [],
   "source": [
    "def one_ticket_probability(user_numbers):\n",
    "    total_outcomes = combinations(49,6)\n",
    "    ticket_probability = (1/total_outcomes)*100\n",
    "    return \"The probability of a successful ticket with the numbers {} is {:.7f}%. Meaning your chance of winning is 1 in {}!\".format(user_numbers, ticket_probability, int(total_outcomes))"
   ]
  },
  {
   "cell_type": "code",
   "execution_count": 14,
   "metadata": {
    "collapsed": false
   },
   "outputs": [
    {
     "data": {
      "text/plain": [
       "'The probability of a successful ticket with the numbers [1, 27, 3, 9, 5, 6] is 0.0000072%. Meaning your chance of winning is 1 in 13983816!'"
      ]
     },
     "execution_count": 14,
     "metadata": {},
     "output_type": "execute_result"
    }
   ],
   "source": [
    "n = [1,27,3,9,5,6]\n",
    "one_ticket_probability(n)"
   ]
  },
  {
   "cell_type": "code",
   "execution_count": 15,
   "metadata": {
    "collapsed": true
   },
   "outputs": [],
   "source": [
    "import pandas as pd\n",
    "data = pd.read_csv(\"649.csv\")\n",
    "data = pd.DataFrame(data)"
   ]
  },
  {
   "cell_type": "code",
   "execution_count": 16,
   "metadata": {
    "collapsed": false
   },
   "outputs": [
    {
     "data": {
      "text/html": [
       "<div>\n",
       "<style scoped>\n",
       "    .dataframe tbody tr th:only-of-type {\n",
       "        vertical-align: middle;\n",
       "    }\n",
       "\n",
       "    .dataframe tbody tr th {\n",
       "        vertical-align: top;\n",
       "    }\n",
       "\n",
       "    .dataframe thead th {\n",
       "        text-align: right;\n",
       "    }\n",
       "</style>\n",
       "<table border=\"1\" class=\"dataframe\">\n",
       "  <thead>\n",
       "    <tr style=\"text-align: right;\">\n",
       "      <th></th>\n",
       "      <th>PRODUCT</th>\n",
       "      <th>DRAW NUMBER</th>\n",
       "      <th>SEQUENCE NUMBER</th>\n",
       "      <th>DRAW DATE</th>\n",
       "      <th>NUMBER DRAWN 1</th>\n",
       "      <th>NUMBER DRAWN 2</th>\n",
       "      <th>NUMBER DRAWN 3</th>\n",
       "      <th>NUMBER DRAWN 4</th>\n",
       "      <th>NUMBER DRAWN 5</th>\n",
       "      <th>NUMBER DRAWN 6</th>\n",
       "      <th>BONUS NUMBER</th>\n",
       "    </tr>\n",
       "  </thead>\n",
       "  <tbody>\n",
       "    <tr>\n",
       "      <th>0</th>\n",
       "      <td>649</td>\n",
       "      <td>1</td>\n",
       "      <td>0</td>\n",
       "      <td>6/12/1982</td>\n",
       "      <td>3</td>\n",
       "      <td>11</td>\n",
       "      <td>12</td>\n",
       "      <td>14</td>\n",
       "      <td>41</td>\n",
       "      <td>43</td>\n",
       "      <td>13</td>\n",
       "    </tr>\n",
       "    <tr>\n",
       "      <th>1</th>\n",
       "      <td>649</td>\n",
       "      <td>2</td>\n",
       "      <td>0</td>\n",
       "      <td>6/19/1982</td>\n",
       "      <td>8</td>\n",
       "      <td>33</td>\n",
       "      <td>36</td>\n",
       "      <td>37</td>\n",
       "      <td>39</td>\n",
       "      <td>41</td>\n",
       "      <td>9</td>\n",
       "    </tr>\n",
       "    <tr>\n",
       "      <th>2</th>\n",
       "      <td>649</td>\n",
       "      <td>3</td>\n",
       "      <td>0</td>\n",
       "      <td>6/26/1982</td>\n",
       "      <td>1</td>\n",
       "      <td>6</td>\n",
       "      <td>23</td>\n",
       "      <td>24</td>\n",
       "      <td>27</td>\n",
       "      <td>39</td>\n",
       "      <td>34</td>\n",
       "    </tr>\n",
       "    <tr>\n",
       "      <th>3</th>\n",
       "      <td>649</td>\n",
       "      <td>4</td>\n",
       "      <td>0</td>\n",
       "      <td>7/3/1982</td>\n",
       "      <td>3</td>\n",
       "      <td>9</td>\n",
       "      <td>10</td>\n",
       "      <td>13</td>\n",
       "      <td>20</td>\n",
       "      <td>43</td>\n",
       "      <td>34</td>\n",
       "    </tr>\n",
       "    <tr>\n",
       "      <th>4</th>\n",
       "      <td>649</td>\n",
       "      <td>5</td>\n",
       "      <td>0</td>\n",
       "      <td>7/10/1982</td>\n",
       "      <td>5</td>\n",
       "      <td>14</td>\n",
       "      <td>21</td>\n",
       "      <td>31</td>\n",
       "      <td>34</td>\n",
       "      <td>47</td>\n",
       "      <td>45</td>\n",
       "    </tr>\n",
       "  </tbody>\n",
       "</table>\n",
       "</div>"
      ],
      "text/plain": [
       "   PRODUCT  DRAW NUMBER  SEQUENCE NUMBER  DRAW DATE  NUMBER DRAWN 1  \\\n",
       "0      649            1                0  6/12/1982               3   \n",
       "1      649            2                0  6/19/1982               8   \n",
       "2      649            3                0  6/26/1982               1   \n",
       "3      649            4                0   7/3/1982               3   \n",
       "4      649            5                0  7/10/1982               5   \n",
       "\n",
       "   NUMBER DRAWN 2  NUMBER DRAWN 3  NUMBER DRAWN 4  NUMBER DRAWN 5  \\\n",
       "0              11              12              14              41   \n",
       "1              33              36              37              39   \n",
       "2               6              23              24              27   \n",
       "3               9              10              13              20   \n",
       "4              14              21              31              34   \n",
       "\n",
       "   NUMBER DRAWN 6  BONUS NUMBER  \n",
       "0              43            13  \n",
       "1              41             9  \n",
       "2              39            34  \n",
       "3              43            34  \n",
       "4              47            45  "
      ]
     },
     "execution_count": 16,
     "metadata": {},
     "output_type": "execute_result"
    }
   ],
   "source": [
    "data.head()"
   ]
  },
  {
   "cell_type": "code",
   "execution_count": 21,
   "metadata": {
    "collapsed": false
   },
   "outputs": [],
   "source": [
    "#The extract_numbers function returns the winning numbers from the dataset. \n",
    "def extract_numbers(row):\n",
    "    row = row[4:10]\n",
    "    row = set(row.values)\n",
    "    return row\n",
    "winning_numbers = data.apply(extract_numbers,axis=1)\n",
    "\n",
    "#The check_historical_occurence function compares the users numbers with winning numbers from the past\n",
    "def check_historical_occurrence(user_numbers, historical_numbers):\n",
    "    \n",
    "    user_numbers_set = set(user_numbers)\n",
    "    check_occurence = historical_numbers == user_numbers_set\n",
    "    n_occurences = check_occurence.sum()\n",
    "    \n",
    "    if n_occurences == 0:\n",
    "        return \"The combination {} did not patch past winning results. {}\".format(user_numbers, one_ticket_probability(user_numbers))\n",
    "    else:\n",
    "        return \"The combination {} matched a previous winning results. {}\".format(user_numbers, one_ticket_probability(user_numbers))\n"
   ]
  },
  {
   "cell_type": "code",
   "execution_count": 22,
   "metadata": {
    "collapsed": false
   },
   "outputs": [
    {
     "data": {
      "text/plain": [
       "'The combination [33, 36, 37, 39, 81, 41] did not patch past winning results. The probability of a successful ticket with the numbers [33, 36, 37, 39, 81, 41] is 0.0000072%. Meaning your chance of winning is 1 in 13983816!'"
      ]
     },
     "execution_count": 22,
     "metadata": {},
     "output_type": "execute_result"
    }
   ],
   "source": [
    "test_input_3 = [33, 36, 37, 39, 81, 41]\n",
    "check_historical_occurrence(test_input_3, winning_numbers)"
   ]
  },
  {
   "cell_type": "markdown",
   "metadata": {
    "collapsed": false
   },
   "source": [
    "The first function above goes through the entire dataset of winning numbers and returns only the 6 winning numbers for each occurence. This is better labeled as historical numbers.\n",
    "\n",
    "The second function takes a users selected numbers and compares those numbers with the set of historical numbers to see if the users numbers matched any of the historical ones. \n",
    "\n",
    "The resaon we use a set in this case is to be able to easily compare if the user numbers are found within the historical numbers."
   ]
  },
  {
   "cell_type": "markdown",
   "metadata": {
    "collapsed": true
   },
   "source": [
    "# Multiple tickets"
   ]
  },
  {
   "cell_type": "markdown",
   "metadata": {},
   "source": [
    "So far we've been able to predict chances if an individual buys a single lottery ticket. Lottery addicts however, rarely only buy a single ticket. We need to be able to identify ones chances if they buy more than one ticket.\n",
    "\n",
    "We want to create a function where the input can be the number of different tickets a user wants to play. This would be an integer between 1 and the total number of different tickets (13,983,816). This function should print information about the probability of winning the big prize depending on how many tickets are played. "
   ]
  },
  {
   "cell_type": "code",
   "execution_count": 31,
   "metadata": {
    "collapsed": false
   },
   "outputs": [],
   "source": [
    "def multi_ticket_probability(n_tickets):\n",
    "    total_possible_outcomes = combinations(49,6) #49 total numbers, and 6 numbers sampled\n",
    "    success_probability = (n_tickets/total_possible_outcomes)*100\n",
    "    return \"The chance of winning with {} tickets is {:.7f}%, or {} in {}\".format(n_tickets,success_probability,n_tickets,int(total_possible_outcomes))"
   ]
  },
  {
   "cell_type": "code",
   "execution_count": 36,
   "metadata": {
    "collapsed": false
   },
   "outputs": [
    {
     "data": {
      "text/plain": [
       "'The chance of winning with 10000 tickets is 0.0715112%, or 10000 in 13983816'"
      ]
     },
     "execution_count": 36,
     "metadata": {},
     "output_type": "execute_result"
    }
   ],
   "source": [
    "multi_ticket_probability(10000)"
   ]
  },
  {
   "cell_type": "markdown",
   "metadata": {},
   "source": [
    "# Probabilities for winning numbers"
   ]
  },
  {
   "cell_type": "markdown",
   "metadata": {},
   "source": [
    "Now that we've established the chances for multiple tickets, we can look to determine the probability for two, three, four, or five winning numbers.\n",
    "\n",
    "For context, in the 6/49 lotteries (where our data comes from) there are smaller prizes for matching 2,3,4, or 5 out of the 6 numbers. Thus, users might be interested in knowing the chances of having 2,3,4, or 5 winning numbers.\n",
    "\n",
    "The function we want to create to present these probabilities should take in an input from the user where:\n",
    " - There are still 6 different numbers ranging from 1 to 49\n",
    " - An integer between 2 and 5 that represents the number of winning numbers expected.\n",
    " - The function prints the probability of having the inputted number of winning numbers.\n",
    " \n",
    "A good exmample of this process would be:\n",
    " - Finding the total amount of n number combinations. We can use the combinations function we wrote at the beginning.\n",
    " - Find the total number of possible successful outcomes with n number combinations. \n",
    " - Multiply these two values to find the total number of successful outcomes.\n",
    " - Lastly, divide the total number of successful outcomes by the total possible outcomes."
   ]
  },
  {
   "cell_type": "code",
   "execution_count": 103,
   "metadata": {
    "collapsed": false
   },
   "outputs": [],
   "source": [
    "def probability_less_6(number_combinations):\n",
    "    total_num_combinations = combinations(6,number_combinations)\n",
    "    possible_successful_outcomes = combinations(43, 6-number_combinations)\n",
    "    total_num_successful_outcomes = total_num_combinations * possible_successful_outcomes\n",
    "    \n",
    "    success_probability = (total_num_successful_outcomes / (combinations(49,6)))*100\n",
    "    return '''''Your chances of having {} winning numbers with this ticket are {:.7f}%. In other words, you have a 1 in {:,} chances to win.'''''.format(number_combinations, success_probability,\n",
    "                                                               round(combinations(49,6)/total_num_successful_outcomes))"
   ]
  },
  {
   "cell_type": "code",
   "execution_count": 104,
   "metadata": {
    "collapsed": false
   },
   "outputs": [
    {
     "name": "stdout",
     "output_type": "stream",
     "text": [
      "''Your chances of having 2 winning numbers with this ticket are 13.2378029%. In other words, you have a 1 in 8 chances to win.\n",
      "--------------------------\n",
      "''Your chances of having 3 winning numbers with this ticket are 1.7650404%. In other words, you have a 1 in 57 chances to win.\n",
      "--------------------------\n",
      "''Your chances of having 4 winning numbers with this ticket are 0.0968620%. In other words, you have a 1 in 1,032 chances to win.\n",
      "--------------------------\n",
      "''Your chances of having 5 winning numbers with this ticket are 0.0018450%. In other words, you have a 1 in 54,201 chances to win.\n",
      "--------------------------\n"
     ]
    }
   ],
   "source": [
    "test = [2,3,4,5]\n",
    "for i in test:\n",
    "    print(probability_less_6(i))\n",
    "    print('--------------------------')"
   ]
  },
  {
   "cell_type": "markdown",
   "metadata": {},
   "source": [
    "For the possible successful outcomes, in each case we need to subtract 49-6 because we need to remove the set of 6 numbers that don't match exactly. For example, if we are taking a 5 number combination (1,2,3,4,5), 44 outcomes would take the prize, but one of those (1,2,3,4,5,6) we need to remove because we are only interested in outcomes that match exactly five numbers, not at least five numbers. \n",
    " - We basically take out the six number combination that wins the grand prize, since in our case here we are not interested in the combination that matches all six numbers, only less than six.\n",
    "\n",
    "So for each of our n-number combinations there are 43 possible outcomes."
   ]
  },
  {
   "cell_type": "code",
   "execution_count": null,
   "metadata": {
    "collapsed": true
   },
   "outputs": [],
   "source": []
  }
 ],
 "metadata": {
  "kernelspec": {
   "display_name": "Python 3",
   "language": "python",
   "name": "python3"
  },
  "language_info": {
   "codemirror_mode": {
    "name": "ipython",
    "version": 3
   },
   "file_extension": ".py",
   "mimetype": "text/x-python",
   "name": "python",
   "nbconvert_exporter": "python",
   "pygments_lexer": "ipython3",
   "version": "3.4.3"
  }
 },
 "nbformat": 4,
 "nbformat_minor": 2
}
